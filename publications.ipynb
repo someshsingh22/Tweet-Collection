{
 "cells": [
  {
   "cell_type": "markdown",
   "metadata": {},
   "source": [
    "# Imports "
   ]
  },
  {
   "cell_type": "code",
   "execution_count": 5,
   "metadata": {},
   "outputs": [],
   "source": [
    "from tweets import *\n",
    "import pandas as pd\n",
    "from collections import Counter"
   ]
  },
  {
   "cell_type": "markdown",
   "metadata": {},
   "source": [
    "Uncomment the two lines if you dont have the pickled tweets"
   ]
  },
  {
   "cell_type": "code",
   "execution_count": 4,
   "metadata": {},
   "outputs": [],
   "source": [
    "#results=DownloadTweets(\"2017-06-12\",\"2020-06-12\")\n",
    "#save(\"out.pkl\", results)\n",
    "csv=load_to_csv(\"save.pkl\")"
   ]
  },
  {
   "cell_type": "markdown",
   "metadata": {},
   "source": [
    "Top 20 Users with obscene words in tweets"
   ]
  },
  {
   "cell_type": "code",
   "execution_count": 11,
   "metadata": {},
   "outputs": [
    {
     "output_type": "execute_result",
     "data": {
      "text/plain": "[('manqais1', 184),\n ('bobofas', 98),\n ('Im_P_PATEL', 37),\n ('RoshanSonmi', 32),\n ('iamYoungIndia0', 30),\n ('ansariizharali', 28),\n ('anuragsharma131', 25),\n ('hindu196', 25),\n ('CaDalmia', 25),\n ('nareshpandi551', 24),\n ('ashok_kumarjain', 24),\n ('im_deep4u', 24),\n ('Surendr63670969', 24),\n ('mysexcamchat', 21),\n ('AftabFaridi11', 21),\n ('shardaprasad00', 21),\n ('goenkaRK_bjp', 20),\n ('Kumarhansraj6', 20),\n ('FekooLogy', 20),\n ('AnupamSharmaAdv', 20)]"
     },
     "metadata": {},
     "execution_count": 11
    }
   ],
   "source": [
    "sorted(Counter(csv['username']).items(), key = lambda k : -k[1])[:20]"
   ]
  },
  {
   "cell_type": "markdown",
   "metadata": {},
   "source": [
    "Top 20 Users with obscene content in tweets (non reply)"
   ]
  },
  {
   "cell_type": "code",
   "execution_count": 15,
   "metadata": {},
   "outputs": [
    {
     "output_type": "execute_result",
     "data": {
      "text/plain": "[('manqais1', 162),\n ('bobofas', 98),\n ('mysexcamchat', 21),\n ('modified_hindu', 16),\n ('hemantinnovia', 15),\n ('Sirshamsher', 13),\n ('samajwadijanat1', 13),\n ('durgeshmachhi', 12),\n ('Santosh101989', 12),\n ('CareForIndia2', 12),\n ('sukebedian_bot', 12),\n ('RunSalman', 11),\n ('Loveindia0786', 11),\n ('BodkheShilpa', 11),\n ('misraumakant', 10),\n ('SanjayKumarVij3', 10),\n ('SumedhWahane', 10),\n ('PawanPr74907968', 10),\n ('edcjai', 9),\n ('wifeswap_mum', 9)]"
     },
     "metadata": {},
     "execution_count": 15
    }
   ],
   "source": [
    "sorted(Counter(csv[csv['to'].isna()]['username']).items(), key = lambda k : -k[1])[:20]"
   ]
  },
  {
   "cell_type": "markdown",
   "metadata": {},
   "source": [
    "Top 20 obscene repliers"
   ]
  },
  {
   "cell_type": "code",
   "execution_count": 17,
   "metadata": {},
   "outputs": [
    {
     "output_type": "execute_result",
     "data": {
      "text/plain": "[('Im_P_PATEL', 37),\n ('RoshanSonmi', 31),\n ('iamYoungIndia0', 29),\n ('Surendr63670969', 24),\n ('hindu196', 23),\n ('ashok_kumarjain', 23),\n ('im_deep4u', 23),\n ('nareshpandi551', 22),\n ('manqais1', 22),\n ('ansariizharali', 21),\n ('shardaprasad00', 21),\n ('Kumarhansraj6', 20),\n ('AnupamSharmaAdv', 20),\n ('_Ajay_Pandit_', 20),\n ('AftabFaridi11', 20),\n ('anuragsharma131', 20),\n ('CaDalmia', 20),\n ('FekooLogy', 19),\n ('aankur_tweet', 19),\n ('goenkaRK_bjp', 18)]"
     },
     "metadata": {},
     "execution_count": 17
    }
   ],
   "source": [
    "sorted(Counter(csv[~csv['to'].isna()]['username']).items(), key = lambda k : -k[1])[:20]"
   ]
  },
  {
   "cell_type": "markdown",
   "metadata": {},
   "source": [
    "Top 50 Targets for obscene speech"
   ]
  },
  {
   "cell_type": "code",
   "execution_count": 22,
   "metadata": {},
   "outputs": [
    {
     "output_type": "execute_result",
     "data": {
      "text/plain": "[('aajtak', 636),\n ('ZeeNews', 538),\n ('sardanarohit', 512),\n ('AcharyaPramodk', 472),\n ('ashutosh83B', 407),\n ('News18India', 352),\n ('DChaurasia2312', 330),\n ('RubikaLiyaquat', 327),\n ('HardikPatel_', 284),\n ('sudhirchaudhary', 262),\n ('AMISHDEVGAN', 259),\n ('manakgupta', 244),\n ('RahulGandhi', 197),\n ('PJkanojia', 197),\n ('SanjayAzadSln', 186),\n ('ArvindKejriwal', 169),\n ('meamabhishek', 159),\n ('abpnewshindi', 152),\n ('LambaAlka', 145),\n ('KapilMishra_IND', 145),\n ('anuragkashyap72', 143),\n ('_garrywalia', 141),\n ('kanhaiyakumar', 140),\n ('SureshChavhanke', 130),\n ('nishantchat', 121),\n ('jigneshmevani80', 119),\n ('INCIndia', 108),\n ('Profdilipmandal', 100),\n ('digvijaya_28', 99),\n ('narendramodi', 99),\n ('Dr_Uditraj', 99),\n ('HansrajMeena', 97),\n ('rssurjewala', 96),\n ('khanumarfa', 91),\n ('TajinderBagga', 86),\n ('BBCHindi', 86),\n ('SushantBSinha', 82),\n ('yadavakhilesh', 82),\n ('ModiLeDubega', 79),\n ('sardesairajdeep', 77),\n ('ANI', 76),\n ('sambitswaraj', 75),\n ('anuraagmuskaan', 74),\n ('awasthis', 73),\n ('shuklapinku', 73),\n ('ShilpiSinghINC', 73),\n ('anjanaomkashyap', 72),\n ('chitraaum', 70),\n ('yadavtejashwi', 69),\n ('sanjivbhatt', 69)]"
     },
     "metadata": {},
     "execution_count": 22
    }
   ],
   "source": [
    "sorted(Counter(csv[~csv['to'].isna()]['to']).items(), key = lambda k : -k[1])[:50]"
   ]
  },
  {
   "cell_type": "code",
   "execution_count": 23,
   "metadata": {},
   "outputs": [
    {
     "output_type": "execute_result",
     "data": {
      "text/plain": "Index(['username', 'to', 'text', 'retweets', 'favorites', 'replies', 'id',\n       'permalink', 'author_id', 'date', 'formatted_date', 'hashtags',\n       'mentions', 'geo', 'urls'],\n      dtype='object')"
     },
     "metadata": {},
     "execution_count": 23
    }
   ],
   "source": [
    "csv.columns"
   ]
  },
  {
   "cell_type": "code",
   "execution_count": 52,
   "metadata": {},
   "outputs": [],
   "source": [
    "tags=(' '.join(csv[~(csv['hashtags']=='')]['hashtags']).split(' '))\n",
    "mentions=(' '.join(csv[~(csv['mentions']=='')]['mentions']).split(' '))"
   ]
  },
  {
   "cell_type": "markdown",
   "metadata": {},
   "source": [
    "Common hashtags and mentions associated with obscene words"
   ]
  },
  {
   "cell_type": "code",
   "execution_count": 54,
   "metadata": {},
   "outputs": [
    {
     "output_type": "execute_result",
     "data": {
      "text/plain": "[('#ArrestDeepakCHORasia', 118),\n ('#TabligiHeroes', 93),\n ('#HamidAnsari', 86),\n ('#InternationalWomensDay', 60),\n ('#NasheSeAazadi', 50),\n ('#HateMongerMedia', 40),\n ('#PatraNarangiSantra', 40),\n ('#NoLawForMedia', 39),\n ('#getwellsoonmodia', 38),\n ('#IStandWithAmit', 34),\n ('#BJP', 33),\n ('#MPPD_AppreciatedByMinister', 33),\n ('#KartiChidambaramArrested', 31),\n ('#Zomato', 31),\n ('#SaveKashmir', 30),\n ('#ManiShankarAiyar', 29),\n ('#AmarnathTerrorAttack', 24),\n ('#CorruptMedia', 24),\n ('#ISupportTajinderBagga', 24),\n ('#Budget2019', 23),\n ('#SaveKashmiri', 23),\n ('#MasoodAzharDEAD', 22),\n ('#AmarnathYatra', 21),\n ('#JinnahEkVillain', 19),\n ('#BJP_', 19)]"
     },
     "metadata": {},
     "execution_count": 54
    }
   ],
   "source": [
    "sorted(Counter(tags).items(), key = lambda k : -k[1])[:25]"
   ]
  },
  {
   "cell_type": "code",
   "execution_count": 55,
   "metadata": {},
   "outputs": [
    {
     "output_type": "execute_result",
     "data": {
      "text/plain": "[('@narendramodi', 393),\n ('@RahulGandhi', 243),\n ('@INCIndia', 220),\n ('@aajtak', 212),\n ('@PMOIndia', 192),\n ('@sardanarohit', 173),\n ('@ArvindKejriwal', 169),\n ('@AmitShah', 169),\n ('@BJP4India', 165),\n ('@sudhirchaudhary', 155),\n ('@anjanaomkashyap', 127),\n ('@AMISHDEVGAN', 125),\n ('@RubikaLiyaquat', 121),\n ('@myogiadityanath', 99),\n ('@ravishndtv', 90),\n ('@KapilMishra_IND', 89),\n ('@ZeeNews', 81),\n ('@ndtv', 71),\n ('@sambitswaraj', 70),\n ('@yadavakhilesh', 64),\n ('@DChaurasia2312', 54),\n ('@abpnewshindi', 53),\n ('@ashutosh83B', 53),\n ('@DrKumarVishwas', 52),\n ('@SanjayAzadSln', 47)]"
     },
     "metadata": {},
     "execution_count": 55
    }
   ],
   "source": [
    "sorted(Counter(mentions).items(), key = lambda k : -k[1])[:25]"
   ]
  }
 ],
 "metadata": {
  "kernelspec": {
   "display_name": "Python 3",
   "language": "python",
   "name": "python3"
  },
  "language_info": {
   "codemirror_mode": {
    "name": "ipython",
    "version": 3
   },
   "file_extension": ".py",
   "mimetype": "text/x-python",
   "name": "python",
   "nbconvert_exporter": "python",
   "pygments_lexer": "ipython3",
   "version": "3.7.7-final"
  }
 },
 "nbformat": 4,
 "nbformat_minor": 0
}